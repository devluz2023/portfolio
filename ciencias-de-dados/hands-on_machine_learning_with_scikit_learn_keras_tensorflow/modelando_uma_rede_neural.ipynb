{
  "cells": [
    {
      "cell_type": "markdown",
      "metadata": {
        "id": "view-in-github",
        "colab_type": "text"
      },
      "source": [
        "<a href=\"https://colab.research.google.com/github/devluz2023/modelando-uma-rede-neural/blob/main/notebook.ipynb\" target=\"_parent\"><img src=\"https://colab.research.google.com/assets/colab-badge.svg\" alt=\"Open In Colab\"/></a>"
      ]
    },
    {
      "cell_type": "markdown",
      "metadata": {
        "id": "WDCgwcrdmTQl"
      },
      "source": [
        "# A base de dados"
      ]
    },
    {
      "cell_type": "code",
      "source": [
        "!git clone https://github.com/devluz2023/modelando-uma-rede-neural.git"
      ],
      "metadata": {
        "colab": {
          "base_uri": "https://localhost:8080/"
        },
        "id": "zBbMblSskry8",
        "outputId": "c6b65c68-c63a-44d2-cebf-a404262f4fee"
      },
      "execution_count": null,
      "outputs": [
        {
          "output_type": "stream",
          "name": "stdout",
          "text": [
            "fatal: destination path 'modelando-uma-rede-neural' already exists and is not an empty directory.\n"
          ]
        }
      ]
    },
    {
      "cell_type": "markdown",
      "metadata": {
        "id": "RQU8OLFgmTQn"
      },
      "source": [
        "### Carregando o dataset"
      ]
    },
    {
      "cell_type": "code",
      "execution_count": null,
      "metadata": {
        "id": "7I2JWkL5mTQo"
      },
      "outputs": [],
      "source": [
        "import pandas as pd\n",
        "\n",
        "dados = pd.read_csv('modelando-uma-rede-neural/Bicicletas.csv')"
      ]
    },
    {
      "cell_type": "markdown",
      "metadata": {
        "id": "yHXONL72mTQo"
      },
      "source": [
        "### Conhecendo a base de dados"
      ]
    },
    {
      "cell_type": "code",
      "execution_count": null,
      "metadata": {
        "colab": {
          "base_uri": "https://localhost:8080/",
          "height": 206
        },
        "id": "nUJYIHEhmTQo",
        "outputId": "0cbce851-9456-4acf-abbf-bb2dd322708a"
      },
      "outputs": [
        {
          "output_type": "execute_result",
          "data": {
            "text/plain": [
              "   clima  temperatura  bicicletas_alugadas\n",
              "0      2     0.363625                  985\n",
              "1      2     0.353739                  801\n",
              "2      1     0.189405                 1349\n",
              "3      1     0.212122                 1562\n",
              "4      1     0.229270                 1600"
            ],
            "text/html": [
              "\n",
              "  <div id=\"df-f31a068a-d382-4c76-8e6f-bcba72fd69e6\" class=\"colab-df-container\">\n",
              "    <div>\n",
              "<style scoped>\n",
              "    .dataframe tbody tr th:only-of-type {\n",
              "        vertical-align: middle;\n",
              "    }\n",
              "\n",
              "    .dataframe tbody tr th {\n",
              "        vertical-align: top;\n",
              "    }\n",
              "\n",
              "    .dataframe thead th {\n",
              "        text-align: right;\n",
              "    }\n",
              "</style>\n",
              "<table border=\"1\" class=\"dataframe\">\n",
              "  <thead>\n",
              "    <tr style=\"text-align: right;\">\n",
              "      <th></th>\n",
              "      <th>clima</th>\n",
              "      <th>temperatura</th>\n",
              "      <th>bicicletas_alugadas</th>\n",
              "    </tr>\n",
              "  </thead>\n",
              "  <tbody>\n",
              "    <tr>\n",
              "      <th>0</th>\n",
              "      <td>2</td>\n",
              "      <td>0.363625</td>\n",
              "      <td>985</td>\n",
              "    </tr>\n",
              "    <tr>\n",
              "      <th>1</th>\n",
              "      <td>2</td>\n",
              "      <td>0.353739</td>\n",
              "      <td>801</td>\n",
              "    </tr>\n",
              "    <tr>\n",
              "      <th>2</th>\n",
              "      <td>1</td>\n",
              "      <td>0.189405</td>\n",
              "      <td>1349</td>\n",
              "    </tr>\n",
              "    <tr>\n",
              "      <th>3</th>\n",
              "      <td>1</td>\n",
              "      <td>0.212122</td>\n",
              "      <td>1562</td>\n",
              "    </tr>\n",
              "    <tr>\n",
              "      <th>4</th>\n",
              "      <td>1</td>\n",
              "      <td>0.229270</td>\n",
              "      <td>1600</td>\n",
              "    </tr>\n",
              "  </tbody>\n",
              "</table>\n",
              "</div>\n",
              "    <div class=\"colab-df-buttons\">\n",
              "\n",
              "  <div class=\"colab-df-container\">\n",
              "    <button class=\"colab-df-convert\" onclick=\"convertToInteractive('df-f31a068a-d382-4c76-8e6f-bcba72fd69e6')\"\n",
              "            title=\"Convert this dataframe to an interactive table.\"\n",
              "            style=\"display:none;\">\n",
              "\n",
              "  <svg xmlns=\"http://www.w3.org/2000/svg\" height=\"24px\" viewBox=\"0 -960 960 960\">\n",
              "    <path d=\"M120-120v-720h720v720H120Zm60-500h600v-160H180v160Zm220 220h160v-160H400v160Zm0 220h160v-160H400v160ZM180-400h160v-160H180v160Zm440 0h160v-160H620v160ZM180-180h160v-160H180v160Zm440 0h160v-160H620v160Z\"/>\n",
              "  </svg>\n",
              "    </button>\n",
              "\n",
              "  <style>\n",
              "    .colab-df-container {\n",
              "      display:flex;\n",
              "      gap: 12px;\n",
              "    }\n",
              "\n",
              "    .colab-df-convert {\n",
              "      background-color: #E8F0FE;\n",
              "      border: none;\n",
              "      border-radius: 50%;\n",
              "      cursor: pointer;\n",
              "      display: none;\n",
              "      fill: #1967D2;\n",
              "      height: 32px;\n",
              "      padding: 0 0 0 0;\n",
              "      width: 32px;\n",
              "    }\n",
              "\n",
              "    .colab-df-convert:hover {\n",
              "      background-color: #E2EBFA;\n",
              "      box-shadow: 0px 1px 2px rgba(60, 64, 67, 0.3), 0px 1px 3px 1px rgba(60, 64, 67, 0.15);\n",
              "      fill: #174EA6;\n",
              "    }\n",
              "\n",
              "    .colab-df-buttons div {\n",
              "      margin-bottom: 4px;\n",
              "    }\n",
              "\n",
              "    [theme=dark] .colab-df-convert {\n",
              "      background-color: #3B4455;\n",
              "      fill: #D2E3FC;\n",
              "    }\n",
              "\n",
              "    [theme=dark] .colab-df-convert:hover {\n",
              "      background-color: #434B5C;\n",
              "      box-shadow: 0px 1px 3px 1px rgba(0, 0, 0, 0.15);\n",
              "      filter: drop-shadow(0px 1px 2px rgba(0, 0, 0, 0.3));\n",
              "      fill: #FFFFFF;\n",
              "    }\n",
              "  </style>\n",
              "\n",
              "    <script>\n",
              "      const buttonEl =\n",
              "        document.querySelector('#df-f31a068a-d382-4c76-8e6f-bcba72fd69e6 button.colab-df-convert');\n",
              "      buttonEl.style.display =\n",
              "        google.colab.kernel.accessAllowed ? 'block' : 'none';\n",
              "\n",
              "      async function convertToInteractive(key) {\n",
              "        const element = document.querySelector('#df-f31a068a-d382-4c76-8e6f-bcba72fd69e6');\n",
              "        const dataTable =\n",
              "          await google.colab.kernel.invokeFunction('convertToInteractive',\n",
              "                                                    [key], {});\n",
              "        if (!dataTable) return;\n",
              "\n",
              "        const docLinkHtml = 'Like what you see? Visit the ' +\n",
              "          '<a target=\"_blank\" href=https://colab.research.google.com/notebooks/data_table.ipynb>data table notebook</a>'\n",
              "          + ' to learn more about interactive tables.';\n",
              "        element.innerHTML = '';\n",
              "        dataTable['output_type'] = 'display_data';\n",
              "        await google.colab.output.renderOutput(dataTable, element);\n",
              "        const docLink = document.createElement('div');\n",
              "        docLink.innerHTML = docLinkHtml;\n",
              "        element.appendChild(docLink);\n",
              "      }\n",
              "    </script>\n",
              "  </div>\n",
              "\n",
              "\n",
              "<div id=\"df-cf9ff20c-2ba7-4749-a7f7-859912c33fe5\">\n",
              "  <button class=\"colab-df-quickchart\" onclick=\"quickchart('df-cf9ff20c-2ba7-4749-a7f7-859912c33fe5')\"\n",
              "            title=\"Suggest charts\"\n",
              "            style=\"display:none;\">\n",
              "\n",
              "<svg xmlns=\"http://www.w3.org/2000/svg\" height=\"24px\"viewBox=\"0 0 24 24\"\n",
              "     width=\"24px\">\n",
              "    <g>\n",
              "        <path d=\"M19 3H5c-1.1 0-2 .9-2 2v14c0 1.1.9 2 2 2h14c1.1 0 2-.9 2-2V5c0-1.1-.9-2-2-2zM9 17H7v-7h2v7zm4 0h-2V7h2v10zm4 0h-2v-4h2v4z\"/>\n",
              "    </g>\n",
              "</svg>\n",
              "  </button>\n",
              "\n",
              "<style>\n",
              "  .colab-df-quickchart {\n",
              "      --bg-color: #E8F0FE;\n",
              "      --fill-color: #1967D2;\n",
              "      --hover-bg-color: #E2EBFA;\n",
              "      --hover-fill-color: #174EA6;\n",
              "      --disabled-fill-color: #AAA;\n",
              "      --disabled-bg-color: #DDD;\n",
              "  }\n",
              "\n",
              "  [theme=dark] .colab-df-quickchart {\n",
              "      --bg-color: #3B4455;\n",
              "      --fill-color: #D2E3FC;\n",
              "      --hover-bg-color: #434B5C;\n",
              "      --hover-fill-color: #FFFFFF;\n",
              "      --disabled-bg-color: #3B4455;\n",
              "      --disabled-fill-color: #666;\n",
              "  }\n",
              "\n",
              "  .colab-df-quickchart {\n",
              "    background-color: var(--bg-color);\n",
              "    border: none;\n",
              "    border-radius: 50%;\n",
              "    cursor: pointer;\n",
              "    display: none;\n",
              "    fill: var(--fill-color);\n",
              "    height: 32px;\n",
              "    padding: 0;\n",
              "    width: 32px;\n",
              "  }\n",
              "\n",
              "  .colab-df-quickchart:hover {\n",
              "    background-color: var(--hover-bg-color);\n",
              "    box-shadow: 0 1px 2px rgba(60, 64, 67, 0.3), 0 1px 3px 1px rgba(60, 64, 67, 0.15);\n",
              "    fill: var(--button-hover-fill-color);\n",
              "  }\n",
              "\n",
              "  .colab-df-quickchart-complete:disabled,\n",
              "  .colab-df-quickchart-complete:disabled:hover {\n",
              "    background-color: var(--disabled-bg-color);\n",
              "    fill: var(--disabled-fill-color);\n",
              "    box-shadow: none;\n",
              "  }\n",
              "\n",
              "  .colab-df-spinner {\n",
              "    border: 2px solid var(--fill-color);\n",
              "    border-color: transparent;\n",
              "    border-bottom-color: var(--fill-color);\n",
              "    animation:\n",
              "      spin 1s steps(1) infinite;\n",
              "  }\n",
              "\n",
              "  @keyframes spin {\n",
              "    0% {\n",
              "      border-color: transparent;\n",
              "      border-bottom-color: var(--fill-color);\n",
              "      border-left-color: var(--fill-color);\n",
              "    }\n",
              "    20% {\n",
              "      border-color: transparent;\n",
              "      border-left-color: var(--fill-color);\n",
              "      border-top-color: var(--fill-color);\n",
              "    }\n",
              "    30% {\n",
              "      border-color: transparent;\n",
              "      border-left-color: var(--fill-color);\n",
              "      border-top-color: var(--fill-color);\n",
              "      border-right-color: var(--fill-color);\n",
              "    }\n",
              "    40% {\n",
              "      border-color: transparent;\n",
              "      border-right-color: var(--fill-color);\n",
              "      border-top-color: var(--fill-color);\n",
              "    }\n",
              "    60% {\n",
              "      border-color: transparent;\n",
              "      border-right-color: var(--fill-color);\n",
              "    }\n",
              "    80% {\n",
              "      border-color: transparent;\n",
              "      border-right-color: var(--fill-color);\n",
              "      border-bottom-color: var(--fill-color);\n",
              "    }\n",
              "    90% {\n",
              "      border-color: transparent;\n",
              "      border-bottom-color: var(--fill-color);\n",
              "    }\n",
              "  }\n",
              "</style>\n",
              "\n",
              "  <script>\n",
              "    async function quickchart(key) {\n",
              "      const quickchartButtonEl =\n",
              "        document.querySelector('#' + key + ' button');\n",
              "      quickchartButtonEl.disabled = true;  // To prevent multiple clicks.\n",
              "      quickchartButtonEl.classList.add('colab-df-spinner');\n",
              "      try {\n",
              "        const charts = await google.colab.kernel.invokeFunction(\n",
              "            'suggestCharts', [key], {});\n",
              "      } catch (error) {\n",
              "        console.error('Error during call to suggestCharts:', error);\n",
              "      }\n",
              "      quickchartButtonEl.classList.remove('colab-df-spinner');\n",
              "      quickchartButtonEl.classList.add('colab-df-quickchart-complete');\n",
              "    }\n",
              "    (() => {\n",
              "      let quickchartButtonEl =\n",
              "        document.querySelector('#df-cf9ff20c-2ba7-4749-a7f7-859912c33fe5 button');\n",
              "      quickchartButtonEl.style.display =\n",
              "        google.colab.kernel.accessAllowed ? 'block' : 'none';\n",
              "    })();\n",
              "  </script>\n",
              "</div>\n",
              "\n",
              "    </div>\n",
              "  </div>\n"
            ]
          },
          "metadata": {},
          "execution_count": 11
        }
      ],
      "source": [
        "dados.head()"
      ]
    },
    {
      "cell_type": "code",
      "execution_count": null,
      "metadata": {
        "colab": {
          "base_uri": "https://localhost:8080/"
        },
        "id": "kJDDFejYmTQp",
        "outputId": "60e5c797-2d2c-4fdf-a32c-b8ef90c183b9"
      },
      "outputs": [
        {
          "output_type": "execute_result",
          "data": {
            "text/plain": [
              "(731, 3)"
            ]
          },
          "metadata": {},
          "execution_count": 12
        }
      ],
      "source": [
        "dados.shape"
      ]
    },
    {
      "cell_type": "code",
      "execution_count": null,
      "metadata": {
        "id": "-pL42cKFmTQp"
      },
      "outputs": [],
      "source": [
        "import matplotlib.pyplot as plt"
      ]
    },
    {
      "cell_type": "code",
      "execution_count": null,
      "metadata": {
        "colab": {
          "base_uri": "https://localhost:8080/",
          "height": 476
        },
        "id": "SKXldZgBmTQp",
        "outputId": "c289865c-40ab-4239-f04c-832781e55774"
      },
      "outputs": [
        {
          "output_type": "execute_result",
          "data": {
            "text/plain": [
              "Text(0.5, 0, 'temperatura')"
            ]
          },
          "metadata": {},
          "execution_count": 14
        },
        {
          "output_type": "display_data",
          "data": {
            "text/plain": [
              "<Figure size 640x480 with 1 Axes>"
            ],
            "image/png": "[encoded data removed]"
          },
          "metadata": {}
        }
      ],
      "source": [
        "plt.rcParams.update({'font.size': 14})\n",
        "plt.scatter(dados['temperatura'],dados['bicicletas_alugadas'])\n",
        "plt.ylabel('bicicletas_alugadas')\n",
        "plt.xlabel('temperatura')"
      ]
    },
    {
      "cell_type": "code",
      "execution_count": null,
      "metadata": {
        "colab": {
          "base_uri": "https://localhost:8080/",
          "height": 528
        },
        "id": "d6aqx8bQmTQq",
        "outputId": "d6fa614f-3c60-4e21-acaf-0239c45b45bb"
      },
      "outputs": [
        {
          "output_type": "execute_result",
          "data": {
            "text/plain": [
              "([<matplotlib.axis.XTick at 0x7bdeb0767a60>,\n",
              "  <matplotlib.axis.XTick at 0x7bdeb0767a30>,\n",
              "  <matplotlib.axis.XTick at 0x7bdeb0767940>],\n",
              " [Text(1, 0, '1'), Text(2, 0, '2'), Text(3, 0, '3')])"
            ]
          },
          "metadata": {},
          "execution_count": 15
        },
        {
          "output_type": "display_data",
          "data": {
            "text/plain": [
              "<Figure size 640x480 with 1 Axes>"
            ],
            "image/png": "[encoded data removed]"
          },
          "metadata": {}
        }
      ],
      "source": [
        "plt.scatter(dados['clima'],dados['bicicletas_alugadas'])\n",
        "plt.ylabel('bicicletas_alugadas')\n",
        "plt.xlabel('clima')\n",
        "plt.rcParams.update({'font.size': 22})\n",
        "indice=[1,2,3]\n",
        "plt.xticks(indice, fontsize=14)"
      ]
    },
    {
      "cell_type": "markdown",
      "metadata": {
        "id": "gMVs8WlfmTQq"
      },
      "source": [
        "### Normalizando a base de dados"
      ]
    },
    {
      "cell_type": "code",
      "execution_count": null,
      "metadata": {
        "id": "5SsV-gpMmTQq"
      },
      "outputs": [],
      "source": [
        "import numpy as np"
      ]
    },
    {
      "cell_type": "code",
      "execution_count": null,
      "metadata": {
        "id": "_e4DBG-rmTQq"
      },
      "outputs": [],
      "source": [
        "y = dados['bicicletas_alugadas'].values"
      ]
    },
    {
      "cell_type": "code",
      "execution_count": null,
      "metadata": {
        "colab": {
          "base_uri": "https://localhost:8080/"
        },
        "id": "R-0FKqUgmTQr",
        "outputId": "25e6928c-6a34-4e49-d727-0a19e96be2e4"
      },
      "outputs": [
        {
          "output_type": "stream",
          "name": "stdout",
          "text": [
            "[[2.       0.363625]\n",
            " [2.       0.353739]\n",
            " [1.       0.189405]\n",
            " ...\n",
            " [2.       0.2424  ]\n",
            " [1.       0.2317  ]\n",
            " [2.       0.223487]]\n"
          ]
        }
      ],
      "source": [
        "X = dados[['clima','temperatura']].values\n",
        "print(X)"
      ]
    },
    {
      "cell_type": "code",
      "execution_count": null,
      "metadata": {
        "colab": {
          "base_uri": "https://localhost:8080/"
        },
        "id": "17QhhVmZmTQr",
        "outputId": "e7babbc9-4f39-4c2f-bdcf-f90d6d7a4c28"
      },
      "outputs": [
        {
          "output_type": "stream",
          "name": "stdout",
          "text": [
            "[[0.66666667 0.43242565]\n",
            " [0.66666667 0.42066914]\n",
            " [0.33333333 0.22524188]\n",
            " ...\n",
            " [0.66666667 0.28826395]\n",
            " [0.33333333 0.27553942]\n",
            " [0.66666667 0.26577246]]\n"
          ]
        }
      ],
      "source": [
        "X = X/np.amax(X,axis=0)\n",
        "print(X)"
      ]
    },
    {
      "cell_type": "code",
      "execution_count": null,
      "metadata": {
        "colab": {
          "base_uri": "https://localhost:8080/"
        },
        "id": "7pvtyV0wmTQr",
        "outputId": "8d3fc3b4-ca73-42c8-e94f-745d0a19da3f"
      },
      "outputs": [
        {
          "output_type": "stream",
          "name": "stdout",
          "text": [
            "[0.11303649 0.09192105 0.15480835 0.17925178 0.18361258 0.18430112\n",
            " 0.17328437 0.11005279 0.09433096 0.15159513]\n"
          ]
        }
      ],
      "source": [
        "ymax=np.amax(y)\n",
        "y = y/ymax\n",
        "print(y[0:10])"
      ]
    },
    {
      "cell_type": "markdown",
      "metadata": {
        "id": "2xzCSELlmTQr"
      },
      "source": [
        "### Funções de ativação"
      ]
    },
    {
      "cell_type": "code",
      "execution_count": null,
      "metadata": {
        "id": "lN4YeKsamTQr"
      },
      "outputs": [],
      "source": [
        "def sigmoid(Soma):\n",
        "    return 1/(1+np.exp(-Soma))\n",
        "\n",
        "def relu(Soma):\n",
        "    return np.maximum(0,Soma)"
      ]
    },
    {
      "cell_type": "markdown",
      "metadata": {
        "id": "LgiD6foDmTQr"
      },
      "source": [
        "### Criando a estrutura da rede"
      ]
    },
    {
      "cell_type": "code",
      "execution_count": null,
      "metadata": {
        "id": "x7kQl264mTQr"
      },
      "outputs": [],
      "source": [
        "arquitetura = [\n",
        "    {\"dim_entrada\": 2, \"dim_saida\": 50, \"ativacao\": \"relu\"},\n",
        "    {\"dim_entrada\": 50, \"dim_saida\": 1, \"ativacao\": \"sigmoid\"},\n",
        "]"
      ]
    },
    {
      "cell_type": "markdown",
      "metadata": {
        "id": "XR19xMQvmTQs"
      },
      "source": [
        "### Pesos e viés"
      ]
    },
    {
      "cell_type": "code",
      "execution_count": null,
      "metadata": {
        "id": "8GxAdgdFmTQs"
      },
      "outputs": [],
      "source": [
        "def inicia_camadas(arquitetura, seed = 99):\n",
        "    # inicia os valores aleatórios\n",
        "    np.random.seed(seed)\n",
        "    # numero de camadas da rede neural\n",
        "    numero_de_camadas = len(arquitetura)\n",
        "    # inicia armazenamento de parametros\n",
        "    valores_parametros = {}\n",
        "\n",
        "    # itera nas camadas da rede\n",
        "    for indice, camada in enumerate(arquitetura):\n",
        "\n",
        "        indice_camada = indice + 1\n",
        "\n",
        "        # extrai o numero de nodos nas camadas\n",
        "        tamanho_camada_entrada = camada[\"dim_entrada\"]\n",
        "        tamanho_camada_saida = camada[\"dim_saida\"]\n",
        "\n",
        "        # inicia os valores na matriz de pesos P\n",
        "        # e o vetor de viés ou bias b\n",
        "        valores_parametros['P' + str(indice_camada)] = np.random.randn(\n",
        "            tamanho_camada_saida, tamanho_camada_entrada)  * 0.1\n",
        "        valores_parametros['b' + str(indice_camada)] = np.random.randn(\n",
        "            tamanho_camada_saida, 1) * 0.1\n",
        "\n",
        "    return valores_parametros"
      ]
    },
    {
      "cell_type": "markdown",
      "metadata": {
        "id": "Bsj-pk6xmTQs"
      },
      "source": [
        "### Propagação da rede"
      ]
    },
    {
      "cell_type": "code",
      "execution_count": null,
      "metadata": {
        "colab": {
          "base_uri": "https://localhost:8080/"
        },
        "id": "MHBsHOx9mTQs",
        "outputId": "00f2c875-4d7d-418b-f7dd-cd59c0dda366"
      },
      "outputs": [
        {
          "output_type": "stream",
          "name": "stderr",
          "text": [
            "<>:6: SyntaxWarning: \"is\" with a literal. Did you mean \"==\"?\n",
            "<>:8: SyntaxWarning: \"is\" with a literal. Did you mean \"==\"?\n",
            "<>:6: SyntaxWarning: \"is\" with a literal. Did you mean \"==\"?\n",
            "<>:8: SyntaxWarning: \"is\" with a literal. Did you mean \"==\"?\n",
            "<ipython-input-24-83d04c7815d1>:6: SyntaxWarning: \"is\" with a literal. Did you mean \"==\"?\n",
            "  if ativacao is \"relu\":\n",
            "<ipython-input-24-83d04c7815d1>:8: SyntaxWarning: \"is\" with a literal. Did you mean \"==\"?\n",
            "  elif ativacao is \"sigmoid\":\n"
          ]
        }
      ],
      "source": [
        "def propaga_uma_camada(Ativado_anterior, Pesos_atual, b_atual, ativacao=\"relu\"):\n",
        "    # cálculo da entrada para a função de ativação\n",
        "    Saida_atual = np.dot(Pesos_atual, Ativado_anterior) + b_atual\n",
        "\n",
        "    # selecção da função de ativação\n",
        "    if ativacao is \"relu\":\n",
        "        func_ativacao = relu\n",
        "    elif ativacao is \"sigmoid\":\n",
        "        func_ativacao = sigmoid\n",
        "    else:\n",
        "        raise Exception('Ainda não implementamos essa funcao')\n",
        "\n",
        "    # retorna a ativação calculada Ativado_atual e a matriz intermediária Saida\n",
        "    return func_ativacao(Saida_atual), Saida_atual"
      ]
    },
    {
      "cell_type": "code",
      "execution_count": null,
      "metadata": {
        "id": "ggdBrXDomTQs"
      },
      "outputs": [],
      "source": [
        "def propaga_total(X, valores_parametros, arquitetura):\n",
        "    # memoria temporaria para a retropropagacao\n",
        "    memoria = {}\n",
        "    # O vetor X é a ativação para a camada 0\n",
        "    Ativado_atual = X\n",
        "\n",
        "    # iterações para as camadas\n",
        "    for indice, camada in enumerate(arquitetura):\n",
        "        # a numeração das camadas começa de 1\n",
        "        indice_camada = indice + 1\n",
        "        # utiliza a ativação da iteração anterior\n",
        "        Ativado_anterior = Ativado_atual\n",
        "\n",
        "        # extrai a função de ativação para a camada atual\n",
        "        func_ativacao_atual = camada[\"ativacao\"]\n",
        "        # extrai os pesos da camada atual\n",
        "        Pesos_atual = valores_parametros[\"P\" + str(indice_camada)]\n",
        "        # extrai o bias para a camada atual\n",
        "        b_atual = valores_parametros[\"b\" + str(indice_camada)]\n",
        "        # cálculo da ativação para a camada atual\n",
        "        Ativado_atual, Saida_atual = propaga_uma_camada(Ativado_anterior, Pesos_atual, b_atual, func_ativacao_atual)\n",
        "\n",
        "        # salca os valores calculados na memória\n",
        "        memoria[\"A\" + str(indice)] = Ativado_anterior\n",
        "        memoria[\"Z\" + str(indice_camada)] = Saida_atual\n",
        "\n",
        "    # retorna o vetor predito e um dicionário contendo os valores intermediários\n",
        "    return Ativado_atual, memoria"
      ]
    },
    {
      "cell_type": "markdown",
      "metadata": {
        "id": "C3PN16AMmTQs"
      },
      "source": [
        "### Testando a rede"
      ]
    },
    {
      "cell_type": "code",
      "execution_count": null,
      "metadata": {
        "id": "QzQ5u5ormTQs"
      },
      "outputs": [],
      "source": [
        "valores_parametros = inicia_camadas(arquitetura, seed = 99)\n",
        "y_estimado, memoria = propaga_total(np.transpose(X), valores_parametros, arquitetura)"
      ]
    },
    {
      "cell_type": "code",
      "execution_count": null,
      "metadata": {
        "colab": {
          "base_uri": "https://localhost:8080/"
        },
        "id": "OuLI8wjCmTQt",
        "outputId": "a814ecda-d9d2-4529-a123-4e09cf5669e6"
      },
      "outputs": [
        {
          "output_type": "execute_result",
          "data": {
            "text/plain": [
              "4579.982967258466"
            ]
          },
          "metadata": {},
          "execution_count": 27
        }
      ],
      "source": [
        "y_estimado[0,0]*ymax"
      ]
    },
    {
      "cell_type": "code",
      "execution_count": null,
      "metadata": {
        "colab": {
          "base_uri": "https://localhost:8080/"
        },
        "id": "RMGldE6pmTQt",
        "outputId": "a6a02920-02c6-4771-d4c3-c75494eb7cc8"
      },
      "outputs": [
        {
          "output_type": "execute_result",
          "data": {
            "text/plain": [
              "985.0000000000001"
            ]
          },
          "metadata": {},
          "execution_count": 28
        }
      ],
      "source": [
        "y[0]*ymax"
      ]
    },
    {
      "cell_type": "markdown",
      "metadata": {
        "id": "fs9sQaoJmTQt"
      },
      "source": [
        "### Atualização dos pesos"
      ]
    },
    {
      "cell_type": "code",
      "execution_count": null,
      "metadata": {
        "id": "CO6dUA3umTQt"
      },
      "outputs": [],
      "source": [
        "def atualiza(valores_parametros, gradidentes, arquitetura, taxa_aprendizagem):\n",
        "\n",
        "    # iterações pelas camadas\n",
        "    for indice_camada, camada in enumerate(arquitetura, 1):\n",
        "        valores_parametros[\"P\" + str(indice_camada)] -= taxa_aprendizagem * gradidentes[\"dP\" + str(indice_camada)]\n",
        "        valores_parametros[\"b\" + str(indice_camada)] -= taxa_aprendizagem * gradidentes[\"db\" + str(indice_camada)]\n",
        "\n",
        "    return valores_parametros;"
      ]
    },
    {
      "cell_type": "markdown",
      "metadata": {
        "id": "AQFYGKA5mTQt"
      },
      "source": [
        "### Função de custo"
      ]
    },
    {
      "cell_type": "code",
      "execution_count": null,
      "metadata": {
        "id": "XepEbdKTmTQt"
      },
      "outputs": [],
      "source": [
        "def valor_de_custo(Y_predito, Y):\n",
        "    # numero_de_exemplos\n",
        "    m = Y_predito.shape[1]\n",
        "\n",
        "    custo = -1 / m * (np.dot(Y, np.log(Y_predito).T) + np.dot(1 - Y, np.log(1 - Y_predito).T))\n",
        "    return np.squeeze(custo)"
      ]
    },
    {
      "cell_type": "markdown",
      "metadata": {
        "id": "KKKVO6C4mTQt"
      },
      "source": [
        "### Retropropagação"
      ]
    },
    {
      "cell_type": "code",
      "execution_count": null,
      "metadata": {
        "id": "xCfisnRimTQt"
      },
      "outputs": [],
      "source": [
        "def retropropagacao_total(Y_predito, Y, memoria, valores_parametros, arquitetura):\n",
        "\n",
        "    gradientes = {}\n",
        "\n",
        "    # numero de exemplos\n",
        "    #m = Y.shape[1]\n",
        "    # para garantir que os dois vetores tenham a mesma dimensão\n",
        "    Y = Y.reshape(Y_predito.shape)\n",
        "\n",
        "    # inicia o algoritmo de gradiente descendente\n",
        "    dAtivado_anterior = - (np.divide(Y, Y_predito) - np.divide(1 - Y, 1 - Y_predito));\n",
        "\n",
        "    for indice_camada_anterior, camada in reversed(list(enumerate(arquitetura))):\n",
        "\n",
        "        indice_camada_atual = indice_camada_anterior + 1\n",
        "        # Função de ativação para a camada atual\n",
        "\n",
        "        funcao_ativao_atual = camada[\"ativacao\"]\n",
        "\n",
        "        dAtivado_atual = dAtivado_anterior\n",
        "\n",
        "        Ativado_anterior = memoria[\"A\" + str(indice_camada_anterior)]\n",
        "        Saida_atual = memoria[\"Z\" + str(indice_camada_atual)]\n",
        "\n",
        "        Pesos_atual = valores_parametros[\"P\" + str(indice_camada_atual)]\n",
        "        b_atual = valores_parametros[\"b\" + str(indice_camada_atual)]\n",
        "\n",
        "        dAtivado_anterior, dPesos_atual, db_atual = retropropagacao_uma_camada(\n",
        "            dAtivado_atual, Pesos_atual, b_atual, Saida_atual, Ativado_anterior, funcao_ativao_atual)\n",
        "\n",
        "        gradientes[\"dP\" + str(indice_camada_atual)] = dPesos_atual\n",
        "        gradientes[\"db\" + str(indice_camada_atual)] = db_atual\n",
        "\n",
        "    return gradientes"
      ]
    },
    {
      "cell_type": "code",
      "execution_count": null,
      "metadata": {
        "id": "ut_mCIuymTQt"
      },
      "outputs": [],
      "source": [
        "def sigmoid_retro(dAtivado, Saida):\n",
        "    sig = sigmoid(Saida)\n",
        "    return dAtivado * sig * (1 - sig)\n",
        "\n",
        "def relu_retro(dAtivado, Saida):\n",
        "    dSaida = np.array(dAtivado, copy = True)\n",
        "    dSaida[Saida <= 0] = 0;\n",
        "    return dSaida;"
      ]
    },
    {
      "cell_type": "code",
      "execution_count": null,
      "metadata": {
        "colab": {
          "base_uri": "https://localhost:8080/"
        },
        "id": "liVXMBDbmTQu",
        "outputId": "a7247e21-a6ec-4a79-fe92-75303ddc55e0"
      },
      "outputs": [
        {
          "output_type": "stream",
          "name": "stderr",
          "text": [
            "<>:6: SyntaxWarning: \"is\" with a literal. Did you mean \"==\"?\n",
            "<>:8: SyntaxWarning: \"is\" with a literal. Did you mean \"==\"?\n",
            "<>:6: SyntaxWarning: \"is\" with a literal. Did you mean \"==\"?\n",
            "<>:8: SyntaxWarning: \"is\" with a literal. Did you mean \"==\"?\n",
            "<ipython-input-33-d5c0ca0dc97f>:6: SyntaxWarning: \"is\" with a literal. Did you mean \"==\"?\n",
            "  if ativacao is \"relu\":\n",
            "<ipython-input-33-d5c0ca0dc97f>:8: SyntaxWarning: \"is\" with a literal. Did you mean \"==\"?\n",
            "  elif ativacao is \"sigmoid\":\n"
          ]
        }
      ],
      "source": [
        "def retropropagacao_uma_camada(dAtivado_atual, Pesos_atual, b_atual, Saida_atual, Ativado_anterior, ativacao=\"relu\"):\n",
        "    # número de exemplos\n",
        "    m = Ativado_anterior.shape[1]\n",
        "\n",
        "    # seleção função de ativação\n",
        "    if ativacao is \"relu\":\n",
        "        func_ativacao_retro = relu_retro\n",
        "    elif ativacao is \"sigmoid\":\n",
        "        func_ativacao_retro = sigmoid_retro\n",
        "    else:\n",
        "        raise Exception('Ainda não implementamos essa funcao')\n",
        "\n",
        "    # derivada da função de ativação\n",
        "    dSaida_atual = func_ativacao_retro(dAtivado_atual, Saida_atual)\n",
        "\n",
        "    # derivada da matriz de Pesos\n",
        "    dPesos_atual = np.dot(dSaida_atual, Ativado_anterior.T) / m\n",
        "    # derivada do vetor b\n",
        "    db_atual = np.sum(dSaida_atual, axis=1, keepdims=True) / m\n",
        "    # derivada da matriz A_anterior\n",
        "    dAtivado_anterior = np.dot(Pesos_atual.T, dSaida_atual)\n",
        "\n",
        "    return dAtivado_anterior, dPesos_atual, db_atual"
      ]
    },
    {
      "cell_type": "markdown",
      "metadata": {
        "id": "ZG9MplUTmTQu"
      },
      "source": [
        "### Treinamento"
      ]
    },
    {
      "cell_type": "code",
      "execution_count": null,
      "metadata": {
        "id": "dX7Y-m1lmTQu"
      },
      "outputs": [],
      "source": [
        "def treino(X, Y,X_teste,Y_teste, arquitetura, epocas, taxa_aprendizagem):\n",
        "    # Inicia os parâmetros da rede neural\n",
        "    valores_parametros = inicia_camadas(arquitetura, 2)\n",
        "    # Listas que vão guardar o progresso da aprendizagem da rede\n",
        "    historia_custo = []\n",
        "    historia_custo_teste = []\n",
        "\n",
        "\n",
        "    # Atualiza a cada época\n",
        "    for i in range(epocas):\n",
        "        # Propaga a rede - Foward propagation\n",
        "        Y_predito, memoria = propaga_total(X, valores_parametros, arquitetura)\n",
        "\n",
        "        Y_predito_teste, memoria2 = propaga_total(X_teste, valores_parametros,\n",
        "                                                  arquitetura)\n",
        "\n",
        "        # calcula as métricas e salva nas listas de história\n",
        "        custo = valor_de_custo(Y_predito, Y)\n",
        "        historia_custo.append(custo)\n",
        "        custo_teste = valor_de_custo(Y_predito_teste, Y_teste)\n",
        "        historia_custo_teste.append(custo_teste)\n",
        "\n",
        "\n",
        "        # Retropropagação - Backpropagation\n",
        "        gradientes = retropropagacao_total(Y_predito, Y, memoria,\n",
        "                                           valores_parametros, arquitetura)\n",
        "        # Atualiza os pesos\n",
        "        valores_parametros = atualiza(valores_parametros, gradientes,\n",
        "                                      arquitetura, taxa_aprendizagem)\n",
        "\n",
        "        if(i % 50 == 0):\n",
        "\n",
        "            print(\"Iteração: {:05} - custo: {:.5f} \".format(i, custo))\n",
        "\n",
        "\n",
        "    return valores_parametros, historia_custo, historia_custo_teste"
      ]
    },
    {
      "cell_type": "code",
      "execution_count": null,
      "metadata": {
        "id": "W37GTHGdmTQu"
      },
      "outputs": [],
      "source": [
        "from sklearn.model_selection import train_test_split"
      ]
    },
    {
      "cell_type": "code",
      "execution_count": null,
      "metadata": {
        "id": "gJiugDlXmTQu"
      },
      "outputs": [],
      "source": [
        "X_treino, X_teste, y_treino, y_teste = train_test_split( X, y, test_size=0.43, random_state=42)"
      ]
    },
    {
      "cell_type": "code",
      "execution_count": null,
      "metadata": {
        "colab": {
          "base_uri": "https://localhost:8080/"
        },
        "id": "fkkFBKVtmTQu",
        "outputId": "4da827a6-24c0-4bb8-e8cd-0b64b6bba710"
      },
      "outputs": [
        {
          "output_type": "stream",
          "name": "stdout",
          "text": [
            "Iteração: 00000 - custo: 0.69396 \n",
            "Iteração: 00050 - custo: 0.69246 \n",
            "Iteração: 00100 - custo: 0.69136 \n",
            "Iteração: 00150 - custo: 0.69054 \n",
            "Iteração: 00200 - custo: 0.68991 \n",
            "Iteração: 00250 - custo: 0.68939 \n",
            "Iteração: 00300 - custo: 0.68894 \n",
            "Iteração: 00350 - custo: 0.68852 \n",
            "Iteração: 00400 - custo: 0.68812 \n",
            "Iteração: 00450 - custo: 0.68773 \n",
            "Iteração: 00500 - custo: 0.68735 \n",
            "Iteração: 00550 - custo: 0.68700 \n",
            "Iteração: 00600 - custo: 0.68667 \n",
            "Iteração: 00650 - custo: 0.68635 \n",
            "Iteração: 00700 - custo: 0.68605 \n",
            "Iteração: 00750 - custo: 0.68575 \n",
            "Iteração: 00800 - custo: 0.68545 \n",
            "Iteração: 00850 - custo: 0.68515 \n",
            "Iteração: 00900 - custo: 0.68485 \n",
            "Iteração: 00950 - custo: 0.68455 \n",
            "Iteração: 01000 - custo: 0.68424 \n",
            "Iteração: 01050 - custo: 0.68394 \n",
            "Iteração: 01100 - custo: 0.68363 \n",
            "Iteração: 01150 - custo: 0.68333 \n",
            "Iteração: 01200 - custo: 0.68302 \n",
            "Iteração: 01250 - custo: 0.68271 \n",
            "Iteração: 01300 - custo: 0.68239 \n",
            "Iteração: 01350 - custo: 0.68208 \n",
            "Iteração: 01400 - custo: 0.68176 \n",
            "Iteração: 01450 - custo: 0.68145 \n",
            "Iteração: 01500 - custo: 0.68113 \n",
            "Iteração: 01550 - custo: 0.68080 \n",
            "Iteração: 01600 - custo: 0.68048 \n",
            "Iteração: 01650 - custo: 0.68015 \n",
            "Iteração: 01700 - custo: 0.67982 \n",
            "Iteração: 01750 - custo: 0.67949 \n",
            "Iteração: 01800 - custo: 0.67915 \n",
            "Iteração: 01850 - custo: 0.67882 \n",
            "Iteração: 01900 - custo: 0.67848 \n",
            "Iteração: 01950 - custo: 0.67814 \n",
            "Iteração: 02000 - custo: 0.67779 \n",
            "Iteração: 02050 - custo: 0.67745 \n",
            "Iteração: 02100 - custo: 0.67710 \n",
            "Iteração: 02150 - custo: 0.67675 \n",
            "Iteração: 02200 - custo: 0.67640 \n",
            "Iteração: 02250 - custo: 0.67604 \n",
            "Iteração: 02300 - custo: 0.67568 \n",
            "Iteração: 02350 - custo: 0.67533 \n",
            "Iteração: 02400 - custo: 0.67497 \n",
            "Iteração: 02450 - custo: 0.67460 \n",
            "Iteração: 02500 - custo: 0.67424 \n",
            "Iteração: 02550 - custo: 0.67387 \n",
            "Iteração: 02600 - custo: 0.67351 \n",
            "Iteração: 02650 - custo: 0.67314 \n",
            "Iteração: 02700 - custo: 0.67277 \n",
            "Iteração: 02750 - custo: 0.67239 \n",
            "Iteração: 02800 - custo: 0.67202 \n",
            "Iteração: 02850 - custo: 0.67165 \n",
            "Iteração: 02900 - custo: 0.67127 \n",
            "Iteração: 02950 - custo: 0.67089 \n",
            "Iteração: 03000 - custo: 0.67052 \n",
            "Iteração: 03050 - custo: 0.67014 \n",
            "Iteração: 03100 - custo: 0.66976 \n",
            "Iteração: 03150 - custo: 0.66938 \n",
            "Iteração: 03200 - custo: 0.66900 \n",
            "Iteração: 03250 - custo: 0.66862 \n",
            "Iteração: 03300 - custo: 0.66824 \n",
            "Iteração: 03350 - custo: 0.66786 \n",
            "Iteração: 03400 - custo: 0.66747 \n",
            "Iteração: 03450 - custo: 0.66709 \n",
            "Iteração: 03500 - custo: 0.66671 \n",
            "Iteração: 03550 - custo: 0.66633 \n",
            "Iteração: 03600 - custo: 0.66595 \n",
            "Iteração: 03650 - custo: 0.66558 \n",
            "Iteração: 03700 - custo: 0.66520 \n",
            "Iteração: 03750 - custo: 0.66482 \n",
            "Iteração: 03800 - custo: 0.66445 \n",
            "Iteração: 03850 - custo: 0.66407 \n",
            "Iteração: 03900 - custo: 0.66370 \n",
            "Iteração: 03950 - custo: 0.66333 \n",
            "Iteração: 04000 - custo: 0.66296 \n",
            "Iteração: 04050 - custo: 0.66260 \n",
            "Iteração: 04100 - custo: 0.66223 \n",
            "Iteração: 04150 - custo: 0.66187 \n",
            "Iteração: 04200 - custo: 0.66152 \n",
            "Iteração: 04250 - custo: 0.66116 \n",
            "Iteração: 04300 - custo: 0.66081 \n",
            "Iteração: 04350 - custo: 0.66046 \n",
            "Iteração: 04400 - custo: 0.66011 \n",
            "Iteração: 04450 - custo: 0.65977 \n",
            "Iteração: 04500 - custo: 0.65943 \n",
            "Iteração: 04550 - custo: 0.65909 \n",
            "Iteração: 04600 - custo: 0.65876 \n",
            "Iteração: 04650 - custo: 0.65843 \n",
            "Iteração: 04700 - custo: 0.65810 \n",
            "Iteração: 04750 - custo: 0.65778 \n",
            "Iteração: 04800 - custo: 0.65746 \n",
            "Iteração: 04850 - custo: 0.65715 \n",
            "Iteração: 04900 - custo: 0.65684 \n",
            "Iteração: 04950 - custo: 0.65654 \n",
            "Iteração: 05000 - custo: 0.65624 \n",
            "Iteração: 05050 - custo: 0.65594 \n",
            "Iteração: 05100 - custo: 0.65565 \n",
            "Iteração: 05150 - custo: 0.65536 \n",
            "Iteração: 05200 - custo: 0.65508 \n",
            "Iteração: 05250 - custo: 0.65480 \n",
            "Iteração: 05300 - custo: 0.65452 \n",
            "Iteração: 05350 - custo: 0.65425 \n",
            "Iteração: 05400 - custo: 0.65398 \n",
            "Iteração: 05450 - custo: 0.65372 \n",
            "Iteração: 05500 - custo: 0.65347 \n",
            "Iteração: 05550 - custo: 0.65321 \n",
            "Iteração: 05600 - custo: 0.65297 \n",
            "Iteração: 05650 - custo: 0.65272 \n",
            "Iteração: 05700 - custo: 0.65248 \n",
            "Iteração: 05750 - custo: 0.65225 \n",
            "Iteração: 05800 - custo: 0.65202 \n",
            "Iteração: 05850 - custo: 0.65180 \n",
            "Iteração: 05900 - custo: 0.65157 \n",
            "Iteração: 05950 - custo: 0.65136 \n",
            "Iteração: 06000 - custo: 0.65114 \n",
            "Iteração: 06050 - custo: 0.65094 \n",
            "Iteração: 06100 - custo: 0.65074 \n",
            "Iteração: 06150 - custo: 0.65054 \n",
            "Iteração: 06200 - custo: 0.65034 \n",
            "Iteração: 06250 - custo: 0.65016 \n",
            "Iteração: 06300 - custo: 0.64998 \n",
            "Iteração: 06350 - custo: 0.64980 \n",
            "Iteração: 06400 - custo: 0.64962 \n",
            "Iteração: 06450 - custo: 0.64945 \n",
            "Iteração: 06500 - custo: 0.64929 \n",
            "Iteração: 06550 - custo: 0.64913 \n",
            "Iteração: 06600 - custo: 0.64897 \n",
            "Iteração: 06650 - custo: 0.64881 \n",
            "Iteração: 06700 - custo: 0.64866 \n",
            "Iteração: 06750 - custo: 0.64852 \n",
            "Iteração: 06800 - custo: 0.64837 \n",
            "Iteração: 06850 - custo: 0.64823 \n",
            "Iteração: 06900 - custo: 0.64809 \n",
            "Iteração: 06950 - custo: 0.64795 \n",
            "Iteração: 07000 - custo: 0.64781 \n",
            "Iteração: 07050 - custo: 0.64768 \n",
            "Iteração: 07100 - custo: 0.64754 \n",
            "Iteração: 07150 - custo: 0.64741 \n",
            "Iteração: 07200 - custo: 0.64728 \n",
            "Iteração: 07250 - custo: 0.64715 \n",
            "Iteração: 07300 - custo: 0.64703 \n",
            "Iteração: 07350 - custo: 0.64691 \n",
            "Iteração: 07400 - custo: 0.64679 \n",
            "Iteração: 07450 - custo: 0.64668 \n",
            "Iteração: 07500 - custo: 0.64657 \n",
            "Iteração: 07550 - custo: 0.64646 \n",
            "Iteração: 07600 - custo: 0.64636 \n",
            "Iteração: 07650 - custo: 0.64625 \n",
            "Iteração: 07700 - custo: 0.64616 \n",
            "Iteração: 07750 - custo: 0.64606 \n",
            "Iteração: 07800 - custo: 0.64597 \n",
            "Iteração: 07850 - custo: 0.64588 \n",
            "Iteração: 07900 - custo: 0.64579 \n",
            "Iteração: 07950 - custo: 0.64570 \n",
            "Iteração: 08000 - custo: 0.64562 \n",
            "Iteração: 08050 - custo: 0.64554 \n",
            "Iteração: 08100 - custo: 0.64546 \n",
            "Iteração: 08150 - custo: 0.64539 \n",
            "Iteração: 08200 - custo: 0.64532 \n",
            "Iteração: 08250 - custo: 0.64524 \n",
            "Iteração: 08300 - custo: 0.64517 \n",
            "Iteração: 08350 - custo: 0.64511 \n",
            "Iteração: 08400 - custo: 0.64504 \n",
            "Iteração: 08450 - custo: 0.64497 \n",
            "Iteração: 08500 - custo: 0.64491 \n",
            "Iteração: 08550 - custo: 0.64485 \n",
            "Iteração: 08600 - custo: 0.64479 \n",
            "Iteração: 08650 - custo: 0.64473 \n",
            "Iteração: 08700 - custo: 0.64468 \n",
            "Iteração: 08750 - custo: 0.64462 \n",
            "Iteração: 08800 - custo: 0.64457 \n",
            "Iteração: 08850 - custo: 0.64452 \n",
            "Iteração: 08900 - custo: 0.64447 \n",
            "Iteração: 08950 - custo: 0.64442 \n",
            "Iteração: 09000 - custo: 0.64437 \n",
            "Iteração: 09050 - custo: 0.64433 \n",
            "Iteração: 09100 - custo: 0.64428 \n",
            "Iteração: 09150 - custo: 0.64424 \n",
            "Iteração: 09200 - custo: 0.64419 \n",
            "Iteração: 09250 - custo: 0.64415 \n",
            "Iteração: 09300 - custo: 0.64411 \n",
            "Iteração: 09350 - custo: 0.64407 \n",
            "Iteração: 09400 - custo: 0.64403 \n",
            "Iteração: 09450 - custo: 0.64399 \n",
            "Iteração: 09500 - custo: 0.64396 \n",
            "Iteração: 09550 - custo: 0.64392 \n",
            "Iteração: 09600 - custo: 0.64388 \n",
            "Iteração: 09650 - custo: 0.64385 \n",
            "Iteração: 09700 - custo: 0.64381 \n",
            "Iteração: 09750 - custo: 0.64378 \n",
            "Iteração: 09800 - custo: 0.64375 \n",
            "Iteração: 09850 - custo: 0.64372 \n",
            "Iteração: 09900 - custo: 0.64369 \n",
            "Iteração: 09950 - custo: 0.64366 \n",
            "Iteração: 10000 - custo: 0.64362 \n",
            "Iteração: 10050 - custo: 0.64359 \n",
            "Iteração: 10100 - custo: 0.64357 \n",
            "Iteração: 10150 - custo: 0.64354 \n",
            "Iteração: 10200 - custo: 0.64351 \n",
            "Iteração: 10250 - custo: 0.64348 \n",
            "Iteração: 10300 - custo: 0.64346 \n",
            "Iteração: 10350 - custo: 0.64343 \n",
            "Iteração: 10400 - custo: 0.64341 \n",
            "Iteração: 10450 - custo: 0.64339 \n",
            "Iteração: 10500 - custo: 0.64336 \n",
            "Iteração: 10550 - custo: 0.64334 \n",
            "Iteração: 10600 - custo: 0.64332 \n",
            "Iteração: 10650 - custo: 0.64330 \n",
            "Iteração: 10700 - custo: 0.64328 \n",
            "Iteração: 10750 - custo: 0.64326 \n",
            "Iteração: 10800 - custo: 0.64324 \n",
            "Iteração: 10850 - custo: 0.64322 \n",
            "Iteração: 10900 - custo: 0.64320 \n",
            "Iteração: 10950 - custo: 0.64318 \n",
            "Iteração: 11000 - custo: 0.64316 \n",
            "Iteração: 11050 - custo: 0.64314 \n",
            "Iteração: 11100 - custo: 0.64313 \n",
            "Iteração: 11150 - custo: 0.64311 \n",
            "Iteração: 11200 - custo: 0.64309 \n",
            "Iteração: 11250 - custo: 0.64308 \n",
            "Iteração: 11300 - custo: 0.64306 \n",
            "Iteração: 11350 - custo: 0.64305 \n",
            "Iteração: 11400 - custo: 0.64303 \n",
            "Iteração: 11450 - custo: 0.64302 \n",
            "Iteração: 11500 - custo: 0.64300 \n",
            "Iteração: 11550 - custo: 0.64299 \n",
            "Iteração: 11600 - custo: 0.64297 \n",
            "Iteração: 11650 - custo: 0.64296 \n",
            "Iteração: 11700 - custo: 0.64295 \n",
            "Iteração: 11750 - custo: 0.64293 \n",
            "Iteração: 11800 - custo: 0.64292 \n",
            "Iteração: 11850 - custo: 0.64291 \n",
            "Iteração: 11900 - custo: 0.64290 \n",
            "Iteração: 11950 - custo: 0.64289 \n",
            "Iteração: 12000 - custo: 0.64287 \n",
            "Iteração: 12050 - custo: 0.64286 \n",
            "Iteração: 12100 - custo: 0.64285 \n",
            "Iteração: 12150 - custo: 0.64284 \n",
            "Iteração: 12200 - custo: 0.64283 \n",
            "Iteração: 12250 - custo: 0.64282 \n",
            "Iteração: 12300 - custo: 0.64281 \n",
            "Iteração: 12350 - custo: 0.64280 \n",
            "Iteração: 12400 - custo: 0.64279 \n",
            "Iteração: 12450 - custo: 0.64278 \n",
            "Iteração: 12500 - custo: 0.64277 \n",
            "Iteração: 12550 - custo: 0.64276 \n",
            "Iteração: 12600 - custo: 0.64275 \n",
            "Iteração: 12650 - custo: 0.64274 \n",
            "Iteração: 12700 - custo: 0.64273 \n",
            "Iteração: 12750 - custo: 0.64272 \n",
            "Iteração: 12800 - custo: 0.64271 \n",
            "Iteração: 12850 - custo: 0.64271 \n",
            "Iteração: 12900 - custo: 0.64270 \n",
            "Iteração: 12950 - custo: 0.64269 \n",
            "Iteração: 13000 - custo: 0.64268 \n",
            "Iteração: 13050 - custo: 0.64267 \n",
            "Iteração: 13100 - custo: 0.64266 \n",
            "Iteração: 13150 - custo: 0.64266 \n",
            "Iteração: 13200 - custo: 0.64265 \n",
            "Iteração: 13250 - custo: 0.64264 \n",
            "Iteração: 13300 - custo: 0.64263 \n",
            "Iteração: 13350 - custo: 0.64263 \n",
            "Iteração: 13400 - custo: 0.64262 \n",
            "Iteração: 13450 - custo: 0.64261 \n",
            "Iteração: 13500 - custo: 0.64260 \n",
            "Iteração: 13550 - custo: 0.64260 \n",
            "Iteração: 13600 - custo: 0.64259 \n",
            "Iteração: 13650 - custo: 0.64258 \n",
            "Iteração: 13700 - custo: 0.64257 \n",
            "Iteração: 13750 - custo: 0.64256 \n",
            "Iteração: 13800 - custo: 0.64255 \n",
            "Iteração: 13850 - custo: 0.64254 \n",
            "Iteração: 13900 - custo: 0.64253 \n",
            "Iteração: 13950 - custo: 0.64252 \n",
            "Iteração: 14000 - custo: 0.64251 \n",
            "Iteração: 14050 - custo: 0.64250 \n",
            "Iteração: 14100 - custo: 0.64249 \n",
            "Iteração: 14150 - custo: 0.64248 \n",
            "Iteração: 14200 - custo: 0.64248 \n",
            "Iteração: 14250 - custo: 0.64247 \n",
            "Iteração: 14300 - custo: 0.64246 \n",
            "Iteração: 14350 - custo: 0.64245 \n",
            "Iteração: 14400 - custo: 0.64245 \n",
            "Iteração: 14450 - custo: 0.64244 \n",
            "Iteração: 14500 - custo: 0.64243 \n",
            "Iteração: 14550 - custo: 0.64243 \n",
            "Iteração: 14600 - custo: 0.64242 \n",
            "Iteração: 14650 - custo: 0.64241 \n",
            "Iteração: 14700 - custo: 0.64241 \n",
            "Iteração: 14750 - custo: 0.64240 \n",
            "Iteração: 14800 - custo: 0.64239 \n",
            "Iteração: 14850 - custo: 0.64239 \n",
            "Iteração: 14900 - custo: 0.64238 \n",
            "Iteração: 14950 - custo: 0.64237 \n",
            "Iteração: 15000 - custo: 0.64237 \n",
            "Iteração: 15050 - custo: 0.64236 \n",
            "Iteração: 15100 - custo: 0.64235 \n",
            "Iteração: 15150 - custo: 0.64235 \n",
            "Iteração: 15200 - custo: 0.64234 \n",
            "Iteração: 15250 - custo: 0.64233 \n",
            "Iteração: 15300 - custo: 0.64233 \n",
            "Iteração: 15350 - custo: 0.64232 \n",
            "Iteração: 15400 - custo: 0.64231 \n",
            "Iteração: 15450 - custo: 0.64231 \n",
            "Iteração: 15500 - custo: 0.64230 \n",
            "Iteração: 15550 - custo: 0.64230 \n",
            "Iteração: 15600 - custo: 0.64229 \n",
            "Iteração: 15650 - custo: 0.64228 \n",
            "Iteração: 15700 - custo: 0.64228 \n",
            "Iteração: 15750 - custo: 0.64227 \n",
            "Iteração: 15800 - custo: 0.64227 \n",
            "Iteração: 15850 - custo: 0.64226 \n",
            "Iteração: 15900 - custo: 0.64226 \n",
            "Iteração: 15950 - custo: 0.64225 \n",
            "Iteração: 16000 - custo: 0.64224 \n",
            "Iteração: 16050 - custo: 0.64224 \n",
            "Iteração: 16100 - custo: 0.64223 \n",
            "Iteração: 16150 - custo: 0.64222 \n",
            "Iteração: 16200 - custo: 0.64222 \n",
            "Iteração: 16250 - custo: 0.64221 \n",
            "Iteração: 16300 - custo: 0.64220 \n",
            "Iteração: 16350 - custo: 0.64220 \n",
            "Iteração: 16400 - custo: 0.64219 \n",
            "Iteração: 16450 - custo: 0.64218 \n",
            "Iteração: 16500 - custo: 0.64218 \n",
            "Iteração: 16550 - custo: 0.64217 \n",
            "Iteração: 16600 - custo: 0.64217 \n",
            "Iteração: 16650 - custo: 0.64216 \n",
            "Iteração: 16700 - custo: 0.64215 \n",
            "Iteração: 16750 - custo: 0.64215 \n",
            "Iteração: 16800 - custo: 0.64214 \n",
            "Iteração: 16850 - custo: 0.64213 \n",
            "Iteração: 16900 - custo: 0.64213 \n",
            "Iteração: 16950 - custo: 0.64212 \n",
            "Iteração: 17000 - custo: 0.64211 \n",
            "Iteração: 17050 - custo: 0.64211 \n",
            "Iteração: 17100 - custo: 0.64210 \n",
            "Iteração: 17150 - custo: 0.64210 \n",
            "Iteração: 17200 - custo: 0.64209 \n",
            "Iteração: 17250 - custo: 0.64208 \n",
            "Iteração: 17300 - custo: 0.64208 \n",
            "Iteração: 17350 - custo: 0.64207 \n",
            "Iteração: 17400 - custo: 0.64206 \n",
            "Iteração: 17450 - custo: 0.64206 \n",
            "Iteração: 17500 - custo: 0.64205 \n",
            "Iteração: 17550 - custo: 0.64205 \n",
            "Iteração: 17600 - custo: 0.64204 \n",
            "Iteração: 17650 - custo: 0.64203 \n",
            "Iteração: 17700 - custo: 0.64203 \n",
            "Iteração: 17750 - custo: 0.64202 \n",
            "Iteração: 17800 - custo: 0.64202 \n",
            "Iteração: 17850 - custo: 0.64201 \n",
            "Iteração: 17900 - custo: 0.64200 \n",
            "Iteração: 17950 - custo: 0.64200 \n",
            "Iteração: 18000 - custo: 0.64199 \n",
            "Iteração: 18050 - custo: 0.64199 \n",
            "Iteração: 18100 - custo: 0.64198 \n",
            "Iteração: 18150 - custo: 0.64197 \n",
            "Iteração: 18200 - custo: 0.64197 \n",
            "Iteração: 18250 - custo: 0.64196 \n",
            "Iteração: 18300 - custo: 0.64196 \n",
            "Iteração: 18350 - custo: 0.64195 \n",
            "Iteração: 18400 - custo: 0.64195 \n",
            "Iteração: 18450 - custo: 0.64194 \n",
            "Iteração: 18500 - custo: 0.64193 \n",
            "Iteração: 18550 - custo: 0.64193 \n",
            "Iteração: 18600 - custo: 0.64192 \n",
            "Iteração: 18650 - custo: 0.64192 \n",
            "Iteração: 18700 - custo: 0.64191 \n",
            "Iteração: 18750 - custo: 0.64191 \n",
            "Iteração: 18800 - custo: 0.64190 \n",
            "Iteração: 18850 - custo: 0.64190 \n",
            "Iteração: 18900 - custo: 0.64189 \n",
            "Iteração: 18950 - custo: 0.64189 \n",
            "Iteração: 19000 - custo: 0.64188 \n",
            "Iteração: 19050 - custo: 0.64187 \n",
            "Iteração: 19100 - custo: 0.64187 \n",
            "Iteração: 19150 - custo: 0.64186 \n",
            "Iteração: 19200 - custo: 0.64186 \n",
            "Iteração: 19250 - custo: 0.64185 \n",
            "Iteração: 19300 - custo: 0.64185 \n",
            "Iteração: 19350 - custo: 0.64185 \n",
            "Iteração: 19400 - custo: 0.64184 \n",
            "Iteração: 19450 - custo: 0.64184 \n",
            "Iteração: 19500 - custo: 0.64183 \n",
            "Iteração: 19550 - custo: 0.64183 \n",
            "Iteração: 19600 - custo: 0.64182 \n",
            "Iteração: 19650 - custo: 0.64182 \n",
            "Iteração: 19700 - custo: 0.64181 \n",
            "Iteração: 19750 - custo: 0.64181 \n",
            "Iteração: 19800 - custo: 0.64180 \n",
            "Iteração: 19850 - custo: 0.64180 \n",
            "Iteração: 19900 - custo: 0.64179 \n",
            "Iteração: 19950 - custo: 0.64179 \n"
          ]
        }
      ],
      "source": [
        "# Treinamento\n",
        "valores_parametros, historia_custo, historia_custo_teste = treino(np.transpose(X_treino), np.transpose(y_treino.reshape((y_treino.shape[0], 1))),\n",
        "                                                                  np.transpose(X_teste), np.transpose(y_teste.reshape((y_teste.shape[0], 1))),\n",
        "                                                                  arquitetura, 20000, 0.01)"
      ]
    },
    {
      "cell_type": "code",
      "execution_count": null,
      "metadata": {
        "colab": {
          "base_uri": "https://localhost:8080/",
          "height": 484
        },
        "id": "hJvZ6G8hmTQu",
        "outputId": "4efef540-5113-47f9-e7c1-f0f58dd2d068"
      },
      "outputs": [
        {
          "output_type": "display_data",
          "data": {
            "text/plain": [
              "<Figure size 640x480 with 1 Axes>"
            ],
            "image/png": "[encoded data removed]"
          },
          "metadata": {}
        }
      ],
      "source": [
        "plt.plot(historia_custo)\n",
        "plt.plot(historia_custo_teste, 'r')\n",
        "plt.legend(['Treinamento','Teste'])\n",
        "plt.ylabel('Custo')\n",
        "plt.xlabel('Épocas')\n",
        "plt.show()"
      ]
    },
    {
      "cell_type": "markdown",
      "metadata": {
        "id": "irEv7huEmTQu"
      },
      "source": [
        "### Fazendo Previsões"
      ]
    },
    {
      "cell_type": "code",
      "execution_count": null,
      "metadata": {
        "id": "rzJVAg32mTQu"
      },
      "outputs": [],
      "source": [
        "# Previsão\n",
        "Y_pred, _ = propaga_total(np.transpose(X_teste), valores_parametros, arquitetura)"
      ]
    },
    {
      "cell_type": "code",
      "execution_count": null,
      "metadata": {
        "colab": {
          "base_uri": "https://localhost:8080/",
          "height": 479
        },
        "id": "rs4rNLJWmTQu",
        "outputId": "f13b0b82-c2d5-40a7-80e1-a81b2c7f3ee8"
      },
      "outputs": [
        {
          "output_type": "display_data",
          "data": {
            "text/plain": [
              "<Figure size 640x480 with 1 Axes>"
            ],
            "image/png": "[encoded data removed]"
          },
          "metadata": {}
        }
      ],
      "source": [
        "plt.plot(np.transpose(X_teste)[1],ymax*y_teste,'.')\n",
        "plt.plot(np.transpose(X_teste)[1],ymax*Y_pred.reshape([-1,1]),'.r')\n",
        "plt.legend(['Reais','Preditos'])\n",
        "plt.ylabel('bicicletas_alugadas')\n",
        "plt.xlabel('temperatura')\n",
        "plt.show()"
      ]
    },
    {
      "cell_type": "code",
      "execution_count": null,
      "metadata": {
        "colab": {
          "base_uri": "https://localhost:8080/",
          "height": 469
        },
        "id": "DseYGBaXmTQu",
        "outputId": "73c3f317-805c-488e-c3e1-97451ceaa2d5"
      },
      "outputs": [
        {
          "output_type": "display_data",
          "data": {
            "text/plain": [
              "<Figure size 640x480 with 1 Axes>"
            ],
            "image/png": "[encoded data removed]"
          },
          "metadata": {}
        }
      ],
      "source": [
        "plt.plot(3*np.transpose(X_teste)[0],ymax*y_teste,'.')\n",
        "plt.plot(3*np.transpose(X_teste)[0],ymax*Y_pred.reshape([-1,1]),'.r')\n",
        "plt.legend(['Reais','Preditos'])\n",
        "plt.ylabel('bicicletas_alugadas')\n",
        "plt.xlabel('clima')\n",
        "plt.rcParams.update({'font.size': 22})\n",
        "indice=[1,2,3]\n",
        "plt.xticks(indice, fontsize=14)\n",
        "plt.show()"
      ]
    },
    {
      "cell_type": "code",
      "execution_count": null,
      "metadata": {
        "id": "3i0JQzkQmTQu"
      },
      "outputs": [],
      "source": []
    },
    {
      "cell_type": "code",
      "execution_count": null,
      "metadata": {
        "id": "ExbmbsiQmTQu"
      },
      "outputs": [],
      "source": []
    }
  ],
  "metadata": {
    "kernelspec": {
      "display_name": "Python 3",
      "language": "python",
      "name": "python3"
    },
    "language_info": {
      "codemirror_mode": {
        "name": "ipython",
        "version": 3
      },
      "file_extension": ".py",
      "mimetype": "text/x-python",
      "name": "python",
      "nbconvert_exporter": "python",
      "pygments_lexer": "ipython3",
      "version": "3.7.3"
    },
    "colab": {
      "provenance": [],
      "include_colab_link": true
    }
  },
  "nbformat": 4,
  "nbformat_minor": 0
}